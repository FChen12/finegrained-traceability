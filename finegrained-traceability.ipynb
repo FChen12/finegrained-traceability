{
  "nbformat": 4,
  "nbformat_minor": 0,
  "metadata": {
    "colab": {
      "name": "Master.ipynb",
      "provenance": [],
      "collapsed_sections": []
    },
    "kernelspec": {
      "name": "python3",
      "display_name": "Python 3"
    }
  },
  "cells": [
    {
      "source": [
        "[![Open In Colab](https://colab.research.google.com/assets/colab-badge.svg)](https://colab.research.google.com/github/tobhey/finegrained-traceability/blob/master/finegrained-traceability.ipynb)"
      ],
      "cell_type": "markdown",
      "metadata": {}
    },
    {
      "cell_type": "code",
      "metadata": {
        "id": "nx8SpsdYy59b"
      },
      "source": [
        "#@title Install dependencies {display-mode: \"form\"}\n",
        "!pip install fasttext==0.9.2 javalang==0.13.0 XlsxWriter==3.0.1 spacy==3.1.1 nltk==3.2.5 gensim==3.6.0 pandas==1.1.5 sklearn==0.0 autograd==1.3\n",
        "!python -m spacy download it_core_news_lg\n",
        "!python -m spacy download en_core_web_trf\n",
        "import nltk\n",
        "nltk.download(\"stopwords\")\n",
        "nltk.download(\"punkt\")\n",
        "nltk.download(\"wordnet\")"
      ],
      "execution_count": null,
      "outputs": []
    },
    {
      "cell_type": "code",
      "metadata": {
        "id": "s4WT8sz482Gh"
      },
      "source": [
        "#@title Clone git repository {display-mode: \"form\"}\n",
        "!git clone https://github.com/tobhey/finegrained-traceability.git \n",
        "# or download and unzip from zenodo: https://doi.org/10.5281/zenodo.5119858"
      ],
      "execution_count": null,
      "outputs": []
    },
    {
      "cell_type": "code",
      "metadata": {
        "id": "l2bnV66QRfP_"
      },
      "source": [
        "#@title Import dependencies {display-mode: \"form\"}\n",
        "import sys\n",
        "sys.path.append('/content/finegrained-traceability')\n",
        "from TraceabilityRunner import BaseLineRunner, BaseLineCDRunner, \\\n",
        "    BaseLineUCTRunner, BaseLineMCRunner, \\\n",
        "    BaseLineUCTMCRunner, BaseLineUCTCDRunner, BaseLineUCTMCCDRunner, \\\n",
        "    BaseLineMCCDRunner, OUTPUT_DIR\n",
        "from datasets.Dataset import Etour, Itrust, Smos, Eanci\n",
        "from utility import Util\n",
        "from utility.FileUtil import setup_clear_dir"
      ],
      "execution_count": null,
      "outputs": []
    },
    {
      "cell_type": "markdown",
      "metadata": {
        "id": "JZX6nR0Zwkex"
      },
      "source": [
        "<a name=\"parameter-settings\"></a>\n",
        "# Parameter settings\n"
      ]
    },
    {
      "cell_type": "code",
      "metadata": {
        "id": "r9wN72kAhXH0"
      },
      "source": [
        "DATASET = Etour # Choose from: Etour Itrust Smos Eanci\n",
        "TRACE_LINK_PROCESSOR = BaseLineUCTMCCDRunner # Or: BaseLineCDRunner BaseLineUCTRunner BaseLineMCRunner BaseLineUCTMCRunner BaseLineUCTCDRunner BaseLineUCTMCCDRunner BaseLineMCCDRunner\n",
        "MATRIX_FILE_PATH = None # Input path for the precalculated file (csv file). If set to None, it will use a default path (Use None if you didn't re-precalculate)\n",
        "ARTIFACT_MAP_FILE_PATH = None # Input path for the precalculated file (json file). If set to None, it will use a default path (Use None if you didn't re-precalculate)"
      ],
      "execution_count": null,
      "outputs": []
    },
    {
      "cell_type": "markdown",
      "metadata": {
        "id": "K6VXDTayuCOT"
      },
      "source": [
        "# Calculate f1 and MAP (table II results)\n",
        "Set the parameters in the code cell above and run the code cell below.\n",
        "\n",
        "**Note:** iTrust doesn't have use case templates. Therefore, running iTrust with any `BaseLineUCT*Runner` will not work."
      ]
    },
    {
      "cell_type": "code",
      "metadata": {
        "id": "BgO4DPvQG3uU"
      },
      "source": [
        "#@title Run the configuration. See table II in the paper for the expected results {display-mode: \"form\"}\n",
        "FINAL_THRESHOLDS = [0.44]\n",
        "MAJORITY_THRESHOLDS = [0.59]\n",
        "\n",
        "setup_clear_dir(OUTPUT_DIR)\n",
        "\n",
        "b = TRACE_LINK_PROCESSOR(DATASET())\n",
        "b.calculate_f1(FINAL_THRESHOLDS, MAJORITY_THRESHOLDS, MATRIX_FILE_PATH, ARTIFACT_MAP_FILE_PATH)\n",
        "b.calculate_map()"
      ],
      "execution_count": null,
      "outputs": []
    },
    {
      "cell_type": "markdown",
      "metadata": {
        "id": "GgizF1jCrgM1"
      },
      "source": [
        "# Determine optimal threshold (table III results)\n",
        "To determine the optimal threshold (majority/final threshold combination with the highest f1), state a threshold interval for both thresholds. All f1 values of each threshold combination between the intervals are calculated and the highest one is determined.\n",
        "\n",
        "Configure the [parameter settings](#parameter-settings) above and set the interval limits below.\n",
        "\n",
        "**Note 1:** The intervals must be between 0 and 1.\n",
        "\n",
        "**Note 2:** Don't set the intervals too large, otherwise the calculation can be very time-consuming (especially on iTrust). An interval size smaller than 0.1 is recommended."
      ]
    },
    {
      "cell_type": "code",
      "metadata": {
        "id": "BoQtx7LNrnZv"
      },
      "source": [
        "# This will create discrete intervals between START_*_THRESHOLD and END_*_THRESHOLD in 0.01 steps.\n",
        "START_FINAL_THRESHOLD = 0.4\n",
        "END_FINAL_THRESHOLD = 0.5\n",
        "START_MAJORITY_THRESHOLD = 0.53\n",
        "END_MAJORITY_THRESHOLD = 0.63\n",
        "STEP_SIZE = 0.01"
      ],
      "execution_count": null,
      "outputs": []
    },
    {
      "cell_type": "code",
      "metadata": {
        "id": "Pyw1jgeZrFHw"
      },
      "source": [
        "#@title Run to determine the highest f1 of the given threshold range. See table III in the paper for the expected result {display-mode: \"form\"}\n",
        "final_thresholds = Util.get_range_array(START_FINAL_THRESHOLD, END_FINAL_THRESHOLD, STEP_SIZE)\n",
        "majority_thresholds = Util.get_range_array(START_MAJORITY_THRESHOLD, END_MAJORITY_THRESHOLD, STEP_SIZE)\n",
        "b = TRACE_LINK_PROCESSOR(DATASET())\n",
        "b.calculate_f1(final_thresholds, majority_thresholds, MATRIX_FILE_PATH, ARTIFACT_MAP_FILE_PATH)"
      ],
      "execution_count": null,
      "outputs": []
    },
    {
      "cell_type": "markdown",
      "metadata": {
        "id": "EKlADtwuSt8A"
      },
      "source": [
        "# Precalculation\n",
        "Instantiating the fastText model is expensive. Therefore, the trace link recovery process is split into two phases: precalculation and trace link processing. The fastText model is only required in the precalculation phase.\n",
        "![simplified_architecture.png](data:image/png;base64,iVBORw0KGgoAAAANSUhEUgAAA58AAAGSCAIAAADrcuLcAAAAAXNSR0IArs4c6QAAAARnQU1BAACxjwv8YQUAAAAJcEhZcwAADsMAAA7DAcdvqGQAAFN3SURBVHhe7b0L8B3VfefZnspmSdVWisqmal01tVXaKW8tpckwMONKgKmKydZmlxQz3iyxWY+zmbEzMkY7Ywc/B+E4fwdbCBILYcYegoTMI7aEXTIiYKFgSP4ZImzANkrMev7YWJIlJP7ogR42D0s87v7O6dPdp0+f7tv33u7br8+nvlLfe+7p03373nv68z+3u28wAgCAqtm9e/crr7xi7gAAwBzBbgEAquecc85Zt26duQMAAHMEuwUAqJ4VK1YsLCyYOwAAMEewWwCA6sFuAQCaArsFAKge7BYAoCmwWwCA6sFuAQCaArsFAKge7BYAoCmwWwCA6sFuAQCaArsFAKge7BYAoCmwWwCA6sFuAQCaArsFAKge7BYAoCmwWwCA6sFuAQCaArsFAKge7BYAoCmwWwCA6sFuAQCaArsFAKge7BYAoCmwWwCA6sFuAQCaArsFAKge7BYAoCmwWwCA6sFuAQCaArsFAKge7BYAoCmwWwCA6sFuAQCaArsFAKge7BYAoCmwWwCA6rnqqqt27txp7gAAwBzBbgEAAACgP2C3AAAAANAfsFsAAAAA6A/YLQAAAAD0B+wWoAr2b1n1thxWrd2ya7+p1k52rY1WdUstK1p1+8nGXrvLFPWFgveRRUeedvJkil74mV7Nqd9anf7AVkePP0owcLBbgCoYayVt3nm01279c/Z4lzz2faTBbiPqsNuQYdhejz9KMHCwW4AqKGElNaljBWC3raHE+0jAbiPqs9vaPg2toscfJRg42C1AFeTtyPfvSvaird1bds1uB0PH3SPvQ1EhFdhtes5OfGABYBzYLUAVFOzI4x1waxUFu20p2O04Krdbof0fWAAYB3YLUAUT7SyTEqm8f9daM+uqtdasqjhqUh5atdZ/osv+XVuceu4ZMeNrFClCwdzeucoXKgrXLdlKEdH2y5O+8U/VXpNkw0vNzDZpBYV2m2yf1JORJx09lRIvvVCmVsl3o0M5u/U8yfIvk++tVWqxBZWSDTvBB7bcti5Xr9TWdhoyLaUrjq8z08bXKxo9LCtZ7vUGmAvYLUAV5HXssn+JHkgesXaW9r7Htze1kR1I+HCEv5pVUfY+psgh3ZS9PzNFmuK5vXOVLxy7btnH46eV3SXbhWlSTzVZk/SGV9j1KmDr1q1LS0vmzpR4n2hEsn1876JJX3oHu5a/TrodL+Vsx/Mky79MSc1oCcnaFq5g3rpN9YEt9d4T/FsyXc9fx2kpscoM1kqPrzPLxs8+6WSG9DYFaADsFqAK8vZvFkmPn7MDy+5LM1h7l4IlWvuWpJbseuwZ7P1Psj+zCse2752rfOHYdUsNYOk60bNPZoy3R8Ha2lutYNO6azcrK1asWFhYMHemxPNEE/zPJXkSYzZvqkaGpJmCTeZZqRTWGhRsWs+TLP8yuW+tZM4xK1fw3CPGbYPo8cKmktWobmsXLbDMSiWLs6pNuvFLVgNoCOwWoAoK93AK+9tFe8cQfbm5P/rC0GopmscaT4r3QfYC47bVN4WZHcv+XbuSZSdDelY9X9n49n1zTVCoGbdu/jmzu2R7o5ma9uClb88db9xk1szqzcJc7TbzLgop3rzjX+JUnaJ3o59k5qIt63mS5V+m1HMqt7wQqz0/8RYRCje11VLRe89e4IxbO2rdGtDdL/WkqaSgTB0hWWKmdaFg42eftf2kx29/gJrBbgGqwN53OWSPrEt2A569QPyg7DQS4p1VNEPSRmpv5UPmtsjuzpK2rNUZ375vrgkKQ8asm3/O7C7ZWy+pFpdOunozMEe7zV/vws2bNJD3Elt1it+NfjwvgAfPk/S+IuMKk6c3ZrU0yVIzTPuBtR/LPvWkjZm3dtKUrOvatVu2qBfXOeS2TB1h6o3vq1Xu9QaYC9gtQBVM1LEnex5PZWu35CPaCXn3QRkK9uHWTtbX1vj2vTXKF5Zat3FzFtbzvCYTrN6sNG234zdvmeedLMSLZ7UsPC+AB8+TLP8y5axf8Xopyq2bIVmKp7J3vbLNe6s55DybiOz2cVmVjDiXqTPDxvfVmmibAtQLdgtQBTXsLP1EOyHvPsihuKnEAHxtjW/fW6N0YVzmpfhZZnfJ3nqe16T06s1Os3abPOgjbK3M8y5ux7daFuU+FJ4n6V2z4kKHogVqyq2bIVmKp7J3vbLNe6s55D0bg7W1w4MMTHmKpPlSdabd+L5aE21TgHrBbgGqoIadZbE5JG3k1ovXKbUUT/u+PdX49n1zlS4suW7e5jy7ZG89z2tSdvUqoFG7LbV5kwbyXuLMLJPheQE8eJ6k9xUpLtSsEp0zN8etcLl1MyRL8VT2rle2+aSNird2ePRC8XEZuXWm3vi+WhNtU4B6wW4BqqC6naW3JXVuSbpuUk3tmMwj6ZNU/PtKT2myPknZ+PaTuaIKai1NSeqZedovuW5xQerJJ+sW1bPWtujMHn97/oXMSqN2Gz9WtHlLvIWsOnZh5t3oxztzBs+TLP8yJRvBzG4VeLZZQrl1MySNeipbm7HovWdVm31rS0X32rXxvFHdMnWsJU648ZMZo2dtP2l3fQHmDnYLUAVJZ1+iYy/cWdr7DYV9NadUdWtn4mCqWQ3Jbk5jf1GZ7PzTLUXlY9vPryDYq+ppv+S6+dcsmTl+Ds5GSxPXStrzrl5q885KO8ZuJ9m8NnGTzobNfTf6KHxRQmRNPE+y/MuULbSfesEKJtXGPo3iTT3maVovXGVbO78hRbjEMnWE6Td+4QJ8mwlgrmC3AFVQ4c5SyNtzONVzdzDRWGrRbjd3v5uUT95+sjtOraqn/ZLr5l0zzy45v8HUFZDi5uzV8xbOTLPH3ZbcvOntaxMPL+bXGbu5ildCI2vieZLlXyZfobW+ns1mSJY69mnYLfor5z3R9NW3UmuWZpKtrcZ7TZmHcIll6mhm2PhFr26JbQpQL9gtQBVUurNUpE8JCb9iNA/ZpKtl6+mvPs2D6tFdyfeHqT3v/uSIxXR5ifajx9Q3lN5do+Brv9y6qe9lnVLPLlkzbmXL77kroFm7FUq/9GO3mlvHW8VDkf8YZE08T7L8y+QttJab+5ImdXKrJIzb1EKZraioaGurKnY7vmql6syy8WUJqU//RNsUoF6wWwCA6qnCbgE6hEeVAZoCuwUAqB7sFvqO6Kwes9W3c04pBWgG7BYAoHqwW+g1yVEJLsgttADsFgCgerBb6DV5dstRCdAKsFsAgOrBbqHvhKe/GcmVGzln0gE0AHYLAFA92C0AQFNgtwAA1YPdAgA0BXYLAFA92C0AQFNgtwAA1YPdAgA0BXYLAFA92C0AQFNgtwAA1SNqu7i4aO4AAMAcwW4BAAAAoD9gtwAAAADQH7BbAAAAAOgP2C0AAAAA9AfsFgAAAAD6A3YLAAAAAP0BuwUAAACA/oDdAgAAAEB/wG4BAAAAoD9gtwAAAADQH7BbAIDq2bp16+7du80dAACYI9gtAED1rFixYmFhwdwBAIA5gt0CAFQPdgsA0BTYLQBA9WC3AABNgd0CAFQPdgsA0BTYLQBA9WC3AABNgd0CAFQPdgsA0BTYLQBA9WC3AABNgd0CAFQPdgsA0BTYLQBA9WC3AABNgd0CAFQPdgsA0BTYLQBA9WC3AABNgd0CAFQPdgsA0BTYLQBA9WC3AABNgd0CAFQPdgsA0BTYLQBA9WC3AABNgd0CAFQPdgsA0BTYLQBA9WC3AABNgd0CAFQPdgsA0BTYLQBA9WC3AABNgd0CAFQPdgsA0BTYLQBA9dxyyy3f+ta3zB0AAJgj2C0AAAAA9AfsFgAAAAD6A3YLAAAAAP0BuwUAAACA/oDdAgAAAEB/wG4BAAAAoD9gtwAAAADQH7BbAAAAAOgP2C0AAAAA9AfsFgAAAAD6A3YLAFA9/BIvAEBTYLcAANWzYsWKhYUFcwcAAOYIdgsAUD3YLQBAU2C3AADVg90CADQFdgsAUD3YLQBAU2C3AADVg90CADQFdgsAUD3YLQBAU2C3AADVg90CADQFdgsAUD3YLQBAU2C3AADVg90CADQFdgsAUD3YLQBAU2C3AADVg90CADQFdgsAUD3YLQBAU2C3AADVg90CADQFdgsAUD3YLRTx+muvnzxEasobL58w2xmGCnYLAFA92C0U8Nqzu888dseZb28hdeT0NzeZDQ1DBbsFAKge7BYKeG3/d85896uvLj1E6sjpXbeaDQ1DJTBTAACoDuwWCsBuaw12C4GZAgBAdWC3UAB2W2uwWwjMFAAAqgO7hQKw21qD3UJgpgAAUB3YLRSA3dYa7BYCMwUAgOrYunXr7t27zR2ANNhtrcFuITBTAAAAmAvYba3BbiEwU4AMb7x4TLpgUlNeP7bPbGgAGBjSA2C39QW7hcBMATK89oO/OvPEl6QLJtXnO3efeeLPzYYGgIGB3dYa7BYCMwXIoOz27+5xeg1STb6/E7sFGCyN2+39lwfB5Wuzt2vOnevPD1ZtdAqrD3YLgZkCZMBuawx2CzBgsNtag91CYKYAGbDbGoPdAgwY7LbWYLcQmClABuy2xmC3AAMGu6012C0EZgqQAbutMdgtwICpzW6VPhoSYbUKg0vv14Xj7fbB1ReaWUJWrn9Qyteukhsbw4fCEk/julAelcohYU1TedXGbHnFwW4hMFOADNhtjcFuAQZMPXarRdNyVj1KGgqlqROL7Di7VQJ64Zo71W2lubGGhmJqW6yncbMm0VxLa1ZGs6TKVf3zVy+ZpqoMdguBmQJkwG5rDHYLMGBqsduUhvqjRFML5Ri7TTVlK6yy27xDC+LGHeu15kqXb7zUEuUqg91CYKYAGbDbGoPd9p2FhYXFxUVzByBNLXabJ4vOMQZl7LZw7DZlt77GsVtonMBMATJgtzUGu+07K1asEME1dwDSzG/sVttnLJRlx261j8b4PFUnp3HXYpMVw25hTgRmCpChpN2qnlEx5hux/qREj+zbW6SD3fYd7BYKmN9xtykB1c5axm6llzOe6qTAbpPGzZpEOwXnuFvsFuZAYKYAGUrZbfJH+dQJ+8EM/r61BcFuoQTYLRRQj91KrDHXqAvSchmycv0ao61j7DY1l8JW2ERPcxqPLDZemXgfgd3CnAjMFCBDKbudtnvy9qfjpbAwM85eNtgtlAC7hQJqs9tqYo226kzcz6ctdu7BbiEwU4AMZe12qkFW7Ba77TfYLRTQAbu1OnZXdscHu4WGCcwUIMNYu1UOF2Nkzj7MwPnTP+L8S1fZhyJYFuiTQl+DqrX4q67wmzK7WraRsE78NZm0E9e3D6vIWXmJPrxMo799Sx71z4LdAnYLBbTcbtM9m5DuD8dHzY7dQoMEZgqQYfKx21SPlhie79hcr/9lCnUPG5XYwwmqpr5tz+JtUyf02rCDNo4brmfcjrMsVe4orHnIbqpw9fxrEgW77TvYLRTQervtdrBbCMwUIMOMRyZYtqeM0Fw6MYrX/9xCV4ulndSQ7YXnp74vy3dKVdmj3ZL4MIP4hok1i7Macc381cNuAbuFArDbWoPdQmCmABmmsdvkG3xN8pCSRU2R//ns1iWWVH0oWEqa67Jb56GU3bqEs2C3gN1CAdhtrcFuITBTgAwT2622vZR9Zod1lRoqwS1tt/bgqJVwWZeb1sLCuuzWWY2U3fpXD7sF7BYKwG5rDXYLgZkCZJjNbvVgbdZuIyNU/pd5NCOFqQNbveV2O942dUrYbbjCUXm6KfWQ9aOUQjhL3upln0gm2G3fwW6hAOy21mC3EJgpQIYpjkwIjxbQWFf2VgaZYA2IaiwL9EmhNsgEpZV6KfE4a1Y9s42UsVtTzeBYctyyVFa341k8qyfl2C1gt1AAdltrsFsIzBQgQym7JdMFu+072C0UgN3WGuwWAjMFyIDd1hjstu9gt1CAstvvbDnzvfs6lIc2r/3sx1c5he0MdguBmQJkwG5rDHbbd7BbKOD1Y/te/bvt3cr/8j/9wyAIfvTArU55G/P9B8yGhqESmClABuy2xmC3fQe7hZ4hb2mx23379pn7AC0mMFOADNhtjcFu+w52Cz0Du4UOEZgpQAbstsZgt30Hu4Wegd1ChwjMFCADdltjsNu+g91Cz8BuoUMEZgqQAbutMdht38FuoWdgt9AhAjMFyIDd1hjstu9s3779xIkT5g5A98FuoUMEZgqQAbutMdgtAHQK7BY6RGCmABmU3T7xpTPf/Won8m/+1cVXvOM3ncL25jt3Y7cA0CGwW+gQ2C3k8vrJQ6/t/05XIt2u4BS2OoefNhsaAKD1YLfQIbBb6Amh3Zo7AABQKdgtdAhsAHoCdgsAUB/YLXQIbAB6AnYLAFAf2C10CGwAegJ2CwBQH9gtdAhsAHoCdgsAUB/YLXQIbAB6AnYLAFAf2C10CGwAegJ2CwBQH9gtdAhsAHoCdgut4qqrrtq9e7e5A9B9sFvoENgA9ATsFlqFqMDCwoK5A9B9sFvoENgA9ATsFloFdgs9A7uFDoENQE/AbqFVYLfQM7Bb6BDYAPQE7BZaBXYLPQO7hQ6BDUBPwG6hVWC30HWuuuqq7du3mzsZu929e/eVV165tLQU3gVoFdgA9ATstkN878ipL3//QL/zq1d85H1fuMspJJI9J1407wNoMa+88spZZ50lnertt98elth2K2p79tlny91bbrklfBSgVWAD0BOU22K3HeHf7vjONY98/493LZGh5aOLT31k8SnzPoB2I14b9quh4MZ2G6vtJZdcIhIcVgZoFdgA9ATdCfN+7gZit19ZOrhzz/NkaLnt73+M3XYIW3BDu92xYwdqC+0HG4BOsm/fvosvvnjdunXmfsZu5SGpsLy8bO5Dm8BuBxvstnPEgvvLv/zL8v8v/uIvyv+oLbQc7BY6ydLSku5vg/jEnfBueFsK5fZZZ53Fj0W1E+x2sMFuu0gsuCGoLbQf7Ba6StzhhoIb3pYbsdru3LlTV4TWgd0ONthti3j15Oilp1VOPjo6dp/KoVtGB27w5vb17wz72Ldd8I9eeWZt6tGjXzOzh629vMe0D9Ac2C10GFtw7RuobcvBbgcb7LYB3jiTKOyzN472LYx+8D6VH31otP9alYM3jp67VeXwV0ZH78vLp9f87tsu+pVXDm5zykfPbTKzh639OGr/mQ8q913erJb74lOjnx0w6wNQP9gtdBvnKzMBtW0/2O1gg93OA3HZ4w8prRS5/OFqlVhhj94zeuHB0U++M4+celS57/Nf1uJ73WjvJ5Ty7r1GrZX47k93j84cMysMUDXYLXQeW3BR206A3Q422G0tvLxndOJvRofvGu3/jDJIcdlDn1daKXJ56nFXOpvN8Yf1cO+towPXj/Z81IzvIrtQNdgttJXTy+YoruMPqb4v/E5N+sEwez6uOvEot697m6jtm94U7LztErvcdJ1xOD6sHWC3gw12WxnSQ4rRHrxZDc3+eGF08HOj5btGx3a4NtnyhOO7sexKxy6OLqb7xhnzNAGmAruFFhCK7AsPjI7crRz0Rx9WYrr3anMU16HPq74v/E5N+sEwJxadXnLTf/rDu29f5xSarjOO9/gw2TfIQsODw6RXRXnrp7t2e+2/DoJ/vcUpLJOpZxyTzb8XBL93rVPopEydeQW7nQlxPumjxP/EAqWHFKM9sq11o7OzRDp2cXQxXXU0xWfUToGjdWEqsFtognBEVoQyPL8hFNlDt4yWv6jN9RG3y6s1sm+QhYYHh0mvGiqv7DyevVH57otPjV5/yaw2VAR2W1mw2yEgXdDJR1WPpP4Uv175X+bP+x7m2A61U9j7CTXeIUIvew2A0mC3MBde3pPS2XBEVoRybuc3TBrZeRy9R4/yXjd65gNKdg/ebA5p4CuzmcFus5my5Yrsti75zgS7nQDpakRqpeeRLujgjapHcrqpgeTEI0roZa8h/fCRuxnNhTJgt1Abr55UXbP88f3MB9WAaMt1tjgiu0e2mUMafrhaDaKIrJ/mh9CmBLvNBruFhJ/u1j2nllrpeZzuaLBRxy18UY3miuYe/RpnoUEB2C1UzYtPqX5n34K6mKJ0zYe/og5+dTqprufoPUrW916tvjJb3jz6yRMcvTARldrtY+//Z299/19v+a3wqhmB3A7LpeSt79987cpUoVTWtRS28FnlieR5KqctMDuXKvmtzeGjKa3MnVFVsO+OWQGVvw6flPDW938yx1xz62Tb9C49Z9EzB7stQrqR499Q6nbget1z9uiA2mojmvvcbeosNPkbgCMWwAd2CxUhUiue98wH1Vf5z23q6hjtpDnxiBqQPvCnepTlZjVWjeaWoGq7FQMz/rr5k2+NbCz0XdvMdM3IHVXNf3bt5ky5aKjWU1UYe2rsppakjp8rx27Hthwm1X7O2mafY5i8Ov5FO7cLqs0e7NbP6WV1aOmPPjQ69IVBHFNbVeRvgP3XqmvoSt/LMWNggd3CbMjfzapT/rCSWvG8/g3Tls+RbWqsOtTcnzxBV1tA5XabCKWWOX03vhFFDWfGg7gSqaDvuuWexHKZqJ5/rvTK5I7dJvG0HKbk2nqPOihTJ2XMRQprV5s92K2LdKHP3qi+CFq+i8HaKXP8YdX3ym7o2F8wvgAh2C1MxZljoyNbtdReq0/gne9VDloe0dxwNJdvzXJozm5dVIUc+XPrOw7qn6uc3Ra37K2j8aytdzUK6vgWLeVjlo7d1sHPDqhrEUoXOtjTxarNqUdHz20c7fkYjgsCdgsTIrom0rbno6PlO5Daopx6nG/N8qjRbpWWhcOWY8duC8u13sWzVzl2O7blMCXX1mu3eXVyFi23U0vPrzZ7sFuFeO3Bm9XZUUfvc/sNMmMSx/06ve6QwW6hHOG1aUTURNdE2pwOhRQk/taMk3wj5nbcbSKacU3bIH3l4nlqrpThqaYyDuqbK1VBzzXGbtMtpyQyb23VLCs/+Zi6rZvy2G1enZxFy93U0vOrzZ6h2+3pZeO1XAmh1ojjHvoz5bjHv2G2PAwM7BbG8fpL6osekTNRNBE1pxMhJaNGFPRJvsubcdwaxm61hCniMUtVEilaHK2MCbEXxrMnQqlFOURfdiB20MQ4PXNZhb93rdLEjN3mtBxpqN1UztrGNdOLSCWnjn/Rdn299NxqM2fQdnvs66O9f4jXzi8nHlFn6e3/DJfIHSDYLeTzxhl9eZqPqS96hny6WLV5/ss4bp3H3ZJWZ6B2K3YljnXozzhvrIEc26EPAtnGgQqDArsFH7HXyh++eG0dCR33yFb1mxfDA7sdbAZnt9KXileJXYljOZ0AmWfUL2X+Eaf5DgfsFjKc3GW8lpPG6s7yHcpxhzeogN0ONsOy258dUEalfvAl89kn88/xh/V5I1sYxB0C2C1YvHpSXXnx4IbJvXb7Tb8aXLHNKRx8tl0WBJc94BQ6OfW42vnJnxMvDmhAq1K7JV3KgOz25K7Rjz/FuQqty/Id6qfgOMG372C3EHHs63occborL2K3vpSx2zDy58T+60bLtw3kMo3Y7WAzCLt944z6LB/cwFG2Lc2xHaN9nxzUgMIAwW5BX6Rm1jMesFtfytttmOe3qEHck7vM69JfsNvBpv92q7rTT6vPsvPpJq3KqUfVgMLRbeZVg96B3Q6eFx5UF6mZ9YwH7NaXSe1WIn3uwQ3q9zJ6PYiL3Q42Pbfbl/eooxGkU3U+16SdWd48enY9h+H2Eux2wIg/iUUd+s+TD9kqlzW893NxyRXbPneFKT33pt2+yq7q5TykpDDiVz/yTEHNJLLoc2/a9pGLVIVw6Tmz7A7r6EJ1e6x9ettRhf7nm7R/7k3XT263YQ5/VZ390N9rNGK3g02f7fbF76lRWy4y060cvXd08CZ+ubd/YLdDRV1/8VplUc5HfXy07Rmp/c4D7w2HbEMFNJInhSkrtSo7guh5SNmhLcduzWeuPzdq3E4omv7GrVnscmcWb1T9eExaraSZV7cz5vmWaT8/xx9Wg0A9PUoBux1semu3P3l8dOBPONC2kxHBPbAOwe0Z2O0gmeVkXo99SlIWmHwj7341r4TPVMt9SN246PrtUXl2iVIhuwJWy5K8WZzyCY8ccCzZ83xna9+N7CkPblCnp/TuizPsdrDpp92e+NvRs58dltrO2Lm1LS88qIZ7uJBCj8Buh8fR7TOdzOvv1Cq0W3NbEyupS7Isz+z5szgL9T+XdJymiu12ivbH5vkt/fviDLsdbHpotyJG8gl1Prb1x/rKqHzsL5dmy5SdW/EKVLd6U0RdDXctgtsbsNuBcXiLGgt0PtUTxRmeNKnWbqOoOuHRtNklOsnarW8Wp3xsB63VNm523mO3cXr3xRl2O9j0zW7VsbbXuR/YuWR2u7UOtZo8U3ZuLbZbiRrB/TQnmfUD7HZILG9SF7J2Ps8Tx+0fteTl2F44Cmt3pkl3XPBQFCOLZbo8R47zZlHVzGEP2lytDlrP4qxDym71ChfbbVH7s6VfX5xht4NNr+z29LI6xKuzp5E1Ybetz5GvjQ7ebF5f6DLY7TCQP0afXT86vNX9JE8Z7XkhpnPMs710ZddffQ+peROiNrV6JmR7VdWUZbeSnFmMdOqS1Hr67DYcrzXoayCMsdt0++p2dlWnTY++OKvKbr/+gwPr/nzDp++4gdQd2c6ytZ3tP0X6Y7evv6R+ZffEovs5nSBhrxV3g9JXxL2W89WT3ZuZLiV9fq2ngo40nrqYTGS0dn1V4owvpBuPknRuzgVh8pZulUcanVJqu7fXi0sLt7dZVZhzfZ6K8tyto2P3m1cZOgt2OwxEbY/e636GScpuuxDZlfZCcKuy25u23/k7V5z72/9uJak7v/P+8zYvPuhs/ynSE7sNxwuO3ud+QidLqGhhF2R0LfybOe2aoc+FtxP/cw6USulj0q3Zi4gezRXN2BRVg6lTe6PCqL7dbGrpBWuVPLWwULmy66bWKuU9KV0ezajKsxY+ew5cP/rpk+a1hm6C3Q4Adazt7Ack9DGds1uJGsG9tuvH4FZot+9c/c8dDyN15P/+f39tznb7gAjUFQ+YO7NQWUMWx+4dPbfJ/WxOHOWIWW1Vye+aYn1MPNKtbDebWoTEXkpqidoaraOqMmOiTmG8ULeyLFHf9TaSWqhaN8ehk0dzn5Raz+QZ1dSHn3p0tHfN6NWT5uWGDqLs9o2XT7x+8hCpKaNXT4fbuhmO//Xo0M3uR5eEqalnrDtH71XjRs3wzE0XVaAK2G3ngt0mnF5Wv+9YwfW/UupZZLfKFC1qsVufN9txlhLfddZNo5aY07umF6pWT2M8uC12KzmyjQNwO42y29Pf3HTm21tILXnsztd++F/Cbd0AL36PC4z3M8t3qCH5BhhjtyVFArvtXLDbhP2fmfmny8OUs1utj3G12sZuJWHltD7GccZi44XmjNHmlWcWqqNaU5VbZLeSZz+rfqSjgxw+evCpp58YbPYeWJKNoO12162vLj1E6siZv7vntR/8lX6/zZ2On89LxuTghhb+khl229dgt4YTi9V9GzaF3apZMiOsutB21mTkNbUI86i/ZlSi8Pqiasp3QRilmx5hTZdLy+Fq2CuQJFJh69G8J1Vkt1a1KnLiEXV8QgcPA1tz/e+uvuY3P3Tt24cZ6a9kIwTyD7utL03abWUDDKSVOfX4aO/VhWeYPXPTRRfd9Izat2vktnnADMEa4h2/1LzopgfCR6LK8dyCLkupQurRK65I2rTq+MBuO5em7db7jhVyypPii266KdXQTLx6crTno9V9G5ZSz5T2paVNiawhuXJL+vgB7YIhKb0rsttIUp3lWnedxPVl3dTteA21yCbE5dZa2Z4a3g6XFeFzX++TmqPdSpbvGB3Zal797nD1undvffDTu/7rHcOM9FeyEQL5h93Wl8bstsoBBtLWHL1n9OyN5hX3EO7hjafqO+E+3roZ3jFVQld1FMF2YkXiHMWPFoLddi6N2m3qHavfpslbMH675dTX1ZNas3H0a6PnZvs1nOqSttuKEo2huuXdiNhw1Ssvf8nI3zNdO70Mu5WNEMg/7La+NGO3FQ8wkBan6PiE1L4/2fu7Virl4V1LDwyqxBFYq1Lxo0Vgt51Lk3brvqv877Lkfe28w0u+KcfyxpnRno+pb6udz2BDSQ9zVpNajHlekZXPXMWsisjfM/JXTafAbmUjBPKvD3a78dIguPR+p3CWVNRgM3b77I1qVM/5iLYn6e+Spk4dnXv3IvvafZ/MGVoosFsXXc1rAapQY3QhXan40Vyw286lpXbrvJnDt6FTv+SbcizHvzE69AX3A9hIzBEClQ+yqi/9axHETkf6WPmrplM/z4vdykYI5B9260l37fanu9WVqJ3PZ6uC3Vab3CPD0nYbD2jFN1wKLUA9qObyVyp+NAN227m00W612sYPJO9r5x1e8k05ln0L6gexnU8fGULkrxr526Y7YLeyEQL5h9160l27PXDDzL+gU3O6b7ftEuvcI8P0zj/azVsmkJaChEILiIzBX8l+1PKKPLDbzqXR427Vzfhdl7zHUm9kXce896y3oa5T8L4uy0tPq19RcT56ZCCRv2rkb5vugN3KRgjkH3brSUft9mcHRns/4X4y2xbstvI8t3F07C/MeyBB7diveEDv9RW2dZp9fkS471c1UxYQz6pxK/keTRpONeTSIrv91OaDT65xC0kmjdqtYL3brDey9T7W10aIH0oeuOKB8HMQlk+NfL7kU+Z87shw8swHOnRpMOxWNkIg/yax27WrgpXrN66+UPUaK9c/GBbeuf583Y0oLCN8MKymC9XtsbKYbUeVrNooCw2Jl6iTtL9y/Zo8GbXavHytW+LMkttg/izjMm+7PXTL6PBX3I9lXbGuApOonn1pGEthk0vJ6CvapOw2Z5Yk/gppxfTWCa+GE19WRsrjavYha955VaE1b1zfrhytgPL1iEbOyfAfGVbJXr0W2mG3ax4bjQ4+ufjYjs1y47FNzqPjsmnRPJnlzVc5DyV5x7ZlqbFv26fsQrXc0WhxQ1IyWTY8ORrN3cjnb7ftggssDjwHbxydfNS8GVoPdisbIZB/E9qtYBueNj8jjg8trVkZnL96yS3PzpWNqr9qo7l7/+XhvKFWGqlVhaZxU39c+6l1k9lXbXRLXIX1NJiaxXqCpTJXu53rpRK05EVyKaKpL0DoFkayaJeHvpiSyHgW3xm7uRUsu82rYy/LeGpyVUVTJ29eXR5JrVU/uhvN0pZr6HiODMNux+eqHfumEs01jxmpVf56cMc7MhXCyKP7HntyX6qCaPHyvoMz2G0jGbTdvv6SGrpzPnFkUHn+y/J3rHk/tIzFxcV169a98sor5j52O7Xdxg6qosY77SFVqaDvOuUTftEfSaQyy2RxdiNl2nfXLVvNejp5DeY9QXN3TOZqt8cfGh36vPuZrClepXMPOVBCqWzSqWxXc9uRWdLN5ldIFDO3TrQCujylpPE65M6r7LbomuFxU3opzZ9ofPQ+dch1Cuy2OCXHbsOh1hBnFFZF/DiUVy3KmmRgVdnttk2bLZd1SryNS+Hitqi1rDpHSwwHhkN0a/FwcvJ0Uk1NPD5tZdB22/5TdUndObE42vNx835oGe95z3uCILjkkktiwZ3abj+rhvyEt3zwL92HOhTpr2QjBPJvZrt1URUcj/TapxOnqWK7LdN+ttAtsZ5OXoN5TzCuWZi52u3Bm0dHtrmfyZriiqy3MJJLp9y+q+TSJXHKwgppu3XRdUrarYuepbzdStSCNLYozzenHlfDSx25bE1Xj7tVw67OcQhKMZU1SjvRQxuejD1Su+ynojpSElaT/7Njt0njWruN1MptV6mN3Up9e81Vm1HN5La257Cact/pB4x7b7dLS0sXX3zxzp07zX2bY/eNnrvV/cSR8Ul9M9b5/OhD7fxZh3379q1YsUJ2P7HgTmm3f/nuX8l4rfbd3/isVZIXY8aXf9gpv3vNW1T5+e++2y6/9TeylSO3DpnesKW/ko0QyL9Kx25zyr32aUdLZNxyi8duJ8v87Fa0RuRmbr/g4A556uTZrVPZtdtCI8yvkLZbb52SduuddyK7jaKqFT6dWnPgejXI1D5OnDjxrW99y9zRtMhuSyQZlBXSdqse0u6YqpO4aWi32ix1NSO+lt36GlcDrrGGWq5sYuw2NNe4Zlp2Za6oTtxUqtlJ03u73bp1q+xRzzrrLI/gLm9WX0w7HzeSSaZj7Jfd7r16dDr5uqRVOII7pd0q47RF9sNv15o5md26lVUjv3L+Wxy7lcpvv9xZnG4h8l3txFMKrvRXsk0C+TeT3aYPS7Wial645k51W5trpJW6fvbQVV0nalnNO8Zuc9u3k1o3fdytbtk+7jZZk8IV9jzBUqnJbhcWFt71rneJNJj7wrwvWJPqtqRT0yKohzCtQvv4V/PdvbJJITbFsd1fbgWrJ82rU8Juc+dV5UV2ax2GmyRy5dwKtWb5i6Mjd5v3Q5sIvziT/839btmtPc4qty27VWIa3Y01N53IbpVZyo3IL+M2/Y2nNDTfbsO7UllY3JCxWz2X3VSq2UkzhCMTpF+VN6pHcFv++zitSaqP7V9kDyv72bZiC+5/vO5dU9qt5aDKNeWuq7y50W767g+eH/zKmj9JynWbnxVVte1WDRJLm38ild9+a1SYtttQi+1Hy0f6K9kggfybzW4l2v8SIss0jqhLEjHNsdtwvNagL1kwxm7T7avbWbuVaJ0NMYZqlTirkdtgzhMskZrs9uKLL5b1OO+88xLBbeCCNdplQ5IezSq09c5IrXDZA+p2YorGLxPsh4oqpHtSb50ydivxzltkt8nTkQbVQwnhLM3YbVsvyri4uCjGIBsnFtwu2a1YY6Swooyp27bO2p6aJLZbXT8e040r+xtXwmrVNC3ESdutRB/5sMOqmcyF3U6GX3Bbd8EEu8vy9UsG/T2St1D1jefetC18KCyZpE31kFM/3YtGPa3V6+a0r8t9V6dpXZZ3//Hi1z8vvVlr2bp165vf/GbZiJf9/lsntVtlljH2AQOT2e2H1ZhrWpFFdp1CdVcvIr4Rplm7nTbuIQFDSU12G/+VlgjuXK8FRoqj9xyN9NE/eJ9+g7QOcQVbcLt1ZEIopoonF82lEpQ+2ihrVMO3hthHE7tNeWpst97GtYZmTgVTyhveDu3WWpx9ZK3Bmgu7nQyP4O75uDqpyPmsNZZQB81dSx+VIFpfkcUWmy005ZZlavWMlNS57Ixvdv86pEYQUg+l2leFzqKjltVD8x8XKJcV/+N/r7ZZF7jkXStnH7tNCiex29TBu9HttN1aQ7bpI31tu1W3yy03G+mv5FMbyD/str7Ud9ytK7jt/4mywUT2DY1dQqHFlxy3Bbdbdjv3jNHQzNjtPFKV3a7/q29f+G9Xi0G2mbe97W3yRv25n/u5L3zhC+q92y67TSUxUa995iqp0tZYT9PVwkf13XyjtROvQ67dOt99pZaebtat2aLccv3vXvwv/snF7SYcu/2td/3jxuxWy2t4cEJqjDZu2RyWEM6VVJZoo42ZUm0l0l/JpzaQf9htfan1rLKU4O7+g9b2v2R+afF5D0IsuG/53/5VK+1WjY86zN8jC+1WHYRgjQ3PL1XZ7W/+P7+vd13d4Bd+4RfUm2DvNaPjD7uftQajpNOiaJw1b/A1a7cu+tG82f3r0G+7bf8POoRnOEgf+++v+ZfN2W08SzJGa9utuu0QPWSP3c4S6a9kawTybx52O9Q8tf0//dF/+DdmQKAG/uAP/uDss8+Wt8c//B/+uxMHHnQ/jWRgeW3vwr/8X//nsMdoOf/i0t92vGeK9HTsto0Z9Nhtq74Z01oZ66BzFEFMVMFbaMqTu465JsmZPWcdem63bb0oTUistjt37pz+mgmV2G14yKx1SQTLbjNH01oHJ2C3Xcrbf+PXwn5hDlz94fe4n0YysLy27/rff+c/MW+IdvPr/+c7HO+ZItjt3DLo425bdVZDyiy1fYZ2K15oNNeKt1AlbbdaMR0xVcmbPWcdlMum60e+q+tE7aer5dpttrWG8+OF0ct7zFuiZdhqK3drtVvloNlqaTdVt4XobmK3HldODk7AbruUuY3dnvOPzj7x7N+4n0YytBz409FPnlC9XSu5/fbbdZ8X/NN3X8Fxt93KQOxWOlV5f6bUVjhyt7rcnvNZay5qrNRw7k3XJwJqlStCZfQWZuxWogU3wShmzuw566CtV2GLrLmtBTck5azdsds9Hx2dOWbeEm1i3bp1slHtN20ldmsMNcEaYR1nt9pik9PFYrv1+qs+VkEpL3bbpcznuFt1Aef/79+PTj3qfhrJ0NLiKzLGaisCwVllncsQ7NavtsI8f+R82mjdtL7T15p4k68wuTsu3jbLzz5bxIa9B0s0lBb/GKS8b9/85jfbb9op7bZUPvx2S1vbGemvZCME8g+7rS9zuGaC+fG9Fp/VS+aXtp5VZqut3MVuO5fe2+327dvl/elRW+FnB0Z7P+F+1loWZaLWSGcopspuM4WT2e0Ms88SWVZjV57x5uh96vDrjlCf3d695i2pH2toZaS/ko0QyL+u2K36aTHF9L+LO//Ufb3b+Hel53neg/Vl02SZesZ5phMrmZtWXhEs9AYhVFsBu+1cem+3S0tLF198sUdtQ575YOu/HPMeWuA/3qB0Zpy9R3luo/rJpI5Q59htByL9lWyEQP612G6tX8FVPx7WJa8NU5PdSi8sPU2itsIcz3tovd3qHnmCBaXqT76SBYubdE1mTit/zeHKK6+Ut2ustgJ227kM56wyP8ubR89/2f24keGkxaeUZcFuZSME8q89dqtGZ83v5Yax7HbaK+Zm2pxrarLbDRs2iDEkaivM8Zd4a7XbKgy4MbvNzDtfu23rL/HKG3X37tSVdLDbzmXodnvyUXW5U+cTRwaSU4+qwfvugN3KRgjkX4vt1orY7fmrl5zCEuml3Xp46Wl1RpHzmawnrbfbmTLLCjS88stfVCd3dwHstnMZut2+elKdMn/qcfdDR4aQw19R3452B+xWNkIg/+Zit3oU1hAPwa5dFaxcv3H1habcIvLR0E3V/zHmIW+D6fLLV1t1LMdVw8ARUxlz+czPbt84o465nKnz1QONIYmiWYXRQVdph8vOpUpyr/BS1LJdkmotwnfUl2o/IjoBIlpQeNWb+Eo0MnvcWupsXHvFrNveReszebeFF74xjehZPuJb+bGt+dd/yrT7YuM2Fdrt71xxri1hpKb8zvvPG7TdChycMNjs/YQ6s7A7YLeyEQL5V7/dKuNctdHctQZTxW6FxE2z46xJSWrsNq9BrbZRC1Iuddw253v87vzsVjh48+jINvdjWTbavSwn03qqCmNPjUXNNbbCuXLs1t+yc9tp3zmBVyXnJ3aiRkKvDZduHDdcqKpgNeVbgbw1tNt0H7XbST+U80Ry1n+atPiCNVmqstuvfvfvPn3HDWQ++Yvv/8jZ/lOkw3bbhSsnkOpz9J7Rszea90BHwG5lIwTyb85HJiytWRl5qrLbWFIlpe02laRBn7lm2lQLvXDNnVZJjZmr3c5yUcYSmhU7WeJw/rnK2G0qtram6rjt63HT1OKUa2YvHBM1oh71OrS9Vs5D3pW01jDVZph4luy8piT3ifjXf5p06oI1Vdkt6Vw6bLeCWI64jvPR60u8XR/p0HdiMditbIRA/s3DbpV3Wsxut94G1SEH7pln2TajMWOh9kHcudrtLEeGpW0vidIyC8du/XOVs1tfy2PqaByzDAVRk+hj1Mhsdutfw6nt1iVqxLP+0+TQF0bHv2HeCa0Hux1sum23YjniOs5Hry/Jdl/TJvVVVbfT1lN1i8FuZSME8q92u9UmGltsBWO3eQ2WGru1omy4XsGdq90KU18XTOlXxq60k8UmV+XYbU7LqTqmWmnnUwsylaNGZrDb3DWc2m7HPRFr/SfOiUdGez7WlcMSBOx2sOm23QpzvLL4nJPtvkomM2OP7Hb/daMXu/d2Fbv93J//BxHcYaYpu9XjpgV2GytsXDLGbu0Gc467TbeZxGfD1Wbedjv9kWGp/kh6KyVwKcPTQ4yO3XrnSlUIByaL7TZp2dSJbk/WS1oGGS2oKru11zDVZmqW8Eay8vZDJZ5IGQPOS6euNC5gt4NN5+32zDH1i4B9vHiC3Q1OlKlnbHsOf7Vbl0qIufcvvyiCO9hsuO1jshEC+TeHIxPU8Kph5fo1sae6dhtqq8IyVI/d5jYo0bIbEs7otKnGaxNSS68h87ZbYfqhhdBENVFXpcYsDefedP1lGbv1z2UVXvaAkraM3ea0rB7SWqkwNbUXJiRKqqIkNSEjsikTTa32WLvNXcMiu82svN2y74nkrP9kkR3tno+q41K6Q1V2u/Xxb6/6xG//u2veTurOlQvvvOfv/6uz/adI5+1WOPb10aE/cz+GDcfuXqz+1v5jO+n0PJVNfdVZqUeTvijdVWbmTXdrnn4vO0tSaF3QZto/7OvLiUdG+z7ZrX4VbAL5N+ezygaVBuy210eGEU+W7xgd2Wpe/Y5Qld3etP3Od7z//N/OXL6KVJ53XvnPh35FMJt9C+qITOeT2Fi0PkY2mRxGpcQ0tkZVR5/AGmplWJjS0BJ265837bKph5x1U+WmNV0erZ4qt0W8DTm4YXRyl3m5oYME8g+7rS8N2K3Q6xN7SSrdHGCo0G75NYf5ZOi/5uDwswOjH3+qLccnuAc1fS66JIsySHNJlpwDn6wzCmIlLbDbVOJ5i+zWnT3+7qvsUprJka+pK2xClwnkH3ZbX5qxW35WZzjp5gADdtu5YLcuP3l89Oxn3c9jI4kPiLIIxTEWUNti3foT2a1v3r7Z7fGH1Q9/vv6SeaGhmwTyD7utL83YrXBicXToZvdDS3qWDl5mPAS77VywWw/H7h89d6v7qZx/csZlVcxDlkpqPY21crKx25x5e2W3px5V34adOWZeYugsgfzDbutLY3Yr7P/M6NgO96NLepNTj6tzt7vZC2O3nQt260ddhPGr7mdz3lGm6PhlHBHNi957WXxqb9pQ9Uldrt3atqorjJtX1Y8aCeO2EK2bVbOVdiud6v51o5eeNi8udJlA/mG39aVJuz29rI8Me9T9AJN+pMsnPWC3nQt26+eNM+os3ubHEbTgJlimqMQx5b5qzNWQul5NRmqF1EVvcufV1quwLTZZYtyaLcGttNuDN41O/K15ZaHjBPLv9Dc3nfn2FlJLHrvztR/+l3BbN8CL3xsd+BMOwO1hlu8YHd5iXuUOgt12LthtLq+/NDqwbnT0XvdDSroV1LZfKLt94+UTr588RGrK6NXT4bZuhuN/zQG4fYvsR59db17fboLddi7YbREiuOJGR77mflRJJ6IOSLgOte0Zym6h5xzeoob6nM9zNUl/u9TVdOpZ9OJ8Xuy2c8Fux/DGGXUNqcNb3Q8saXlOPaqOtX3xe+Z1hL6A3Q6DZ9fX88UZdjvfnFgc7V/bg/N5sdvOBbstxfKm0fJm92NLWpsTj6jTrzmNrI9gt8PgjTNKcKsfV5jYC9NnGzSW9Gp0xG7VqG0f1FbAbjsX7LYsR7ep88w4nbf9OXrPaO8a9cMc0Eew2yGhxhWqPUQBu51XXnhQHZDQl6swtt1uP7X54JNr3MJhB7udgJ8+qa6ZygUZ25znNqmLhfOTDf0Fux0Y6hjc29zP+fQJvTC+4It9RXH1UER4qRe7xMhl6hd09IVjzO9GSpJrxGSbCuMtL1ilpEKCWo3iWbxLUZWtWaQ8rpZzWfVZcvRedVJ2jzriFtvtmsdGo4NPLj62Y7PceGyT8+gsece25X3bPuUUmmx4cjRqt09jt5Mhf4geuH70/JfczzJpPOpohGtHx+41rxT0FOx2eBzdri6VWs1lwkKlMz6nL4Vo+Wg0OGorrDt2qy6UGOngtsvUVcejR6OaeU0VlkdtqkYSe06SHbvNmSVvKaHXhk/WOG44+pu3xOnz/BZ1Ona/xhhaPnZ71Y59o9Hihkz5bCmy2/YHu52YN86Mnr9Tn4z/iPuhJk3l6D1qWJ0DbQcAdjtITu5SP/Rw/GH3kz9xlPxZ3+mHI5ppZzXlljsmWilRLYTjteKOejQ08eOipnIXkV6lnIuEZ+3WP0vuUuRGMkuqtQovSy5/gcjfIcu3qd1kv+j+2O2ax5Y3b3syfDbiwWou4eCOdyQVdIlGpFbU1twZLW++SlVQsvvYk6LRai7xaTXvpkX7UY8KSwVDus3R4mNPJktXdl71SDB2OyUvPqUO7pS/UZ1PN5lz5G+MA9eroxFePWleGug12O1Q+dkB9e3MrL8hWWC3LmG1jN3qAVFVIk0pKZQKUQvaEfOayl1E5XbromvWb7fyt4f8BdLZXyMrpvvH3WoJ1japDipQrqnn8o74Gmd1hFW7abQUY7e6tUR2Tc04slCrBWnWXsmxZjxbsNvpef0l9Teq9LcVDCiQqSJ/XcjfGD/dbV4RGADY7YCRPvfQLaND/3mGoxTSXqhdUN1VN+whzyRZu9WVRQc/d0X4hb7Y4Xs/FylvflO5i6jcbr1Lqdlu5a8O2Rf292Tettvt+IhoGpG1BkpTWqnKY/x2m6oc6Ww46FtgyXGJUzNyX5HsVLVqgt3OyktPj/b9kbyC7oed1JrwAuHy1wUnkA0M7HbwvPDgaO8fTnt6r/LCscfd2lEi6B6WquXyvUpq1V0Ryl+97IpEN/OaKiovZbfpg2tzZslbSm12e+pRdTSC/NXR6764/3Zrj+Ma3Sxnt2pGoYzdhkkct3Dcd9ZgtxXwxhl1vbA9Hx09/2X3g08qz4nF0cEbR3uv4SjbYYLdwmh0elld0frQn00+iCvyd+5N2z4SfX1vD3NqL0yIhE+NhmosZdRanNbZlCDmNOUvV4Vj7Ta9GsWzeJdSj90+v2W052N9PRrBpv92a5moOnShrN1KoTrY12rTihJfu4U4Zi6t0YuPpZZSWbDbyjhzTI3g4rj15cQjo0NfUF578lGzzWF4YLcQcezrqsM9eo/bU5A5RF2k5rrhfH02hCMT9PG4mifFOJXpqpqCsV6P3VpNqRFZfU5bfMNU0y0K5ow0Q7ICcfsVB7utmNBx935idGSb2xuQqRN67Z6PjY5/o38n48JEYLdg8epJdUrpwQ1cwmZ+OfW4Hsj5mDq3ejB0324HF+y2Fn52YHTw5tHeq0fLd1V0lcah5vjDo4Ofw2shBruFDCd3qT5C/gLGcevO8h16vHzb0LrjTtlteGBrijoObG15sNsaOb08OnzX6Ecf0r3uottLkOIc2aa++Np7zejE3+C1EIPdgg/pI+Qv4NBx+cH0OvL8l5XXHtk6zIsvMnbbuWC3tfP6S7rX/bi6LOvR+9wegziRHVM4OnDw5kF98QUlwW4hn9hxn9uI41aW0GuXN6sD74YKdtu5YLfz46e7RwduUL3Eoc+ra9o4HcjAc+px1YXKHwDPfFCNDgy4F4VisFsYx+svjY79xehHH1ZXV+Fq5FNH/jx47ja8NgS77Vyw23kjvcTxh0b7FrTm3jL0vlek9vBXRgf+dPTMB1QXyu8ywDiwWyjHG2fU1VX2XqN/4ewrbtdDCqJOd7hR/Xlw9Gt4bQh227lgt40hncYLO1Tfu/dqpbmDOmjhxCN6pFZLrTz3nzzBkbVQEuwWJuSlp1Uvo8Yg7+C0s6KEgw3yx0B42UU6ZQvstnPBbpvn9PLohQfUQQs/XK2+ml++q7enoB3bofYyez+hBgWWNyO1MAXYLUzFmWPqmCfpetSPHEoni+ZaObItGWzgZ3J8YLedC3bbIkT1frpbXWZhz8fVQMPBz6kBzk4foXvqcTUm/dwmZe3i7vs/ozy+vz9FDnMAu4XZEHtT17IRzb1O9bBDPvlMpPbgjUpqD97MYEMx2G3ngt22lDPH1JWwljerI3SVF16r/qg+/JUOHKcrOrv8Rf1juVfr0egb1LFbYu30nFAF2C1UxItPqR72mQ8qzZU/wQdyqq99WJhI7clHB/JjYzOC3XYu2G0HEC986Wk16qm+1r/GyK70Ts/dqv72PrbD7b7mllOPape9S62JOljr6tEP3qd09sjdqs88vWzWH6A6sFuoGtFc+RN834K6OLn8XX74Kz0c0D16j7pYj/TR8WFhSO0kYLedC3bbPULZld7p2H3qb+/9n1FOKd2y+KX0zCKaEumfxTslE/bSf//NuyWpwuMPm6aWv2ga33+dWpYs9JkPKpc9fJdaE1kldBbqB7uF2nj1pPq7/NAtqmv78YLSwe4eHHZiUQ1+hAMPP1ytfq/4+EP00VNTld1+/v4t73j/eSJepO78zvv/KXbbB6RbFr+UnllEUyL9s3inRHpp0dAwoQHnZ+edv/emNwX/4E1v2n3vZclce68xTR252zT+4lNqWQBNgN3CXHh5j9LB8OAw6Qeli2y57IrOHr3HDD888wF19sbBm83AA4eFzUxVdisR5SLzibPlpwt22wFCA87Jzns3nXXWfxtozj777N27ufQstBHsFppAeklbdvderX33FvWV1tH75n0FhvB0XVFtcdkD16thZlkl0dlnbzTDDxx1UDUV2i3pVrDbTrNz586zzjorVNsQBBfaCXYLLeD0svLdFx5QX2kduEEdzBorbzjKGx7FdfQec1yXMuDkQo9/++BtN1z7gfhuKuHZDHGe22SaClsORTY8XVdUW1z2p7vVMDPUDHY72GC33SVW2/e85z2h2oY3EFxoIdgttJVQecNR3vAormdvNMd1SfZ8XInpD963+97Lfv6/+QfSw/5fv7kiLEklPJshztGvmabClhHZhsBuBxvstqPYait3ldsGyh8QXGgn2C10GOlPpVcN+1kh7Hah/WC3gw1220X27dtnq60Qdrnh7Vhwl5c50RbaAnYLXSVW21/6pV+S/3/+539e/kdwOwF2O9hgt11kaWlJOturrrrK3E/brXDllVcyfAutAruFThKr7SWXXPLrv/7rcuOGG25wRhegtWC3gw122w+U21p2C9A2eHdC97DV9pVXXrn44ovl9uLionNkGLQW7HawwW77gXJb7BZaDO9O6B5vfvObpWMN1VbuxnYrt2PB3bBhg64LbQS7HWyw236g3Ba7hRbDuxO6h+jsu971rlBtw7vSz4Z2K4jgnnfeefJ/eBdaCHY72GC3/QC7hZbDuxM6j2O30H6w28EGu+0H2C20HN6d0Hmw286B3Q422G0/wG6h5fDuhM6D3XYOsdtrHvn+H+9aIkPLRxefwm57AHYLLYd3J3Qe7LZzfPPQC1/+/gEyzHzvyCnzPoDOgt1Cy+HdCZ0HuwUAmCfYLbQc3p3QebBbAIB5gt1Cy+HdCZ0HuwUAmCfYLbQc3p3QebBbaCEXXHABPykCfQW7hZbDuxM6D3YLLWTFihULCwvmDkC/wG6h5fDuhM6D3UILwW6hx2C30HJ4d0LnwW6hhWC30GOwW2g5vDuh82C30EKwW+gx2C20HN6d0HmwW2gh2C30GOwWWg7vTug82C20EOwWegx2Cy2Hdyd0HuwWWgh2Cz0Gu4WWw7sTOg92Cy0Eu4Ueg91Cy+HdCZ0Hu4UWgt1Cj8FuoeXw7oTOg91CC8Fuocdgt9ByeHdC58FuoYVgt9BjsFtoObw7ofNgt9BCsNsh8MbPfvLa/u8MMKHdOoV9yKHvmZcWOg52C50Hu4UWgt0OAfGhM4/fdea7Xx1a/o+LzpM4hT3I6W/eJn+xmFcXugx2C50Hu4UWgt0OAWW33/3qq0sPkX7kzON3Yrf9IDBTgM6C3UILwW6HAHbbs2C3vSEwU4DOgt1CC8FuhwB227Ngt70hMFOAzoLdQgvBbocAdtuzYLe9ITBTgM6C3UILwW6HwMDs9s715werNjqFs2fiZu+/PAguX+sUqmy8NAguvd8pnCTYbW8IzBSgs2C30EKw2yEwZ7tVVnf+6qVMeWGUO/pdcOJgt9AZAjOFIfHq3997etetvcn//mv/WOz2kVv/o1Pek3zri6NXT5tXDrrDBRdccPvtt5s70FM6Z7e5XpiTdH3sFjpDYKYwJM488eevfn+n86nubn708Jc2X/cxp7A3obcFaC2dOzIBuy0O/W1vCMwUhkTP7LbfobcFaC2T2+3aVYGYnPpfIyqmx1YVK9c/aNeMywVjbEtrVlpjt54KOtL4yvUbV1+oylWbkQva9VWJKrdGgtONS9z6kYbGK2+vsLvQ3NVTAhphFlfQrL+RlN0+GC5UWLl+DXYLhsBMYUhgtx0KvS1Aa5nObiMDMz4XDlumXTMUvvB2InOWgGrtiwxPVUiszl5E9KhdM/ZCJZqxSqoGL1xzp3koSqq+cU0zi3ooWWFnoanVS1Zbmagtr2Hyms19jtZa2XXcJz5F6G97Q2CmMCSw2w6F3hagtUw7dmvuptwx/1v12A4TTXQr282mFiGxl5JaolZDY7R+7/TUT1pOrUN6oW5r8mh4V1XLOHROs/nPMVkrZ0H527Bk6G97Q2CmMCSw2w6F3hagtdRot8kX7ppa7NbnzenMYLcu9uppYiudwW6dOu4sE4f+tjcEZgpDArstjOpq7R1As6G3BWgtddmttsO4Wm1jt5Kwctovrcxgt56R4FTU7GGdGeyWsVvIITBTGBLYbWGwWwAoxVzsVs2SGWHVhdG8qp1k5DUtmumlpGtGJQq/FKbrl7bbMr1oIqZ5zeY+R+sZqTrWwRXJE8k+0zKhv+0NgZnCkMBuOxR6W4DWUt+RCUpkDfpSAFrU0scPaPkLSWmcI5rppRgFdJZr3XWSql/ebiVacBN0zXBZEVH9Mc0arOfof0Yyl7qN3YIiMFMYEtXZrfRK8sd33AHF3xBJiXN1mLCyrqWIO6/ZW0iXJ310TmW7ew37vkyJ1XWqRvyXqkm61BDzkJo3tW6zht4WoLVMbrczJW23FUV1ZVbP1pPoPcjkT4r+tjcEZgpDolK7TcRODzaEYhfqYEZAI/W0+ugpW7Ak0i3XYwA5i8v2476e3bHblLma1Var5z3XGLsFGA5ztlura6ostRhz05Enlb26WZnQ3/aGwExhSFRrt9a3Ucr59N34RhRXIqVCeLd0C6mvqyRRBe/AQ+7i1FzpXi9b4tptshrxOqTad55CxaG37SgnTpwwt6C/zM9uVZ+T/KVdXVT3NZ0I9jL0t70hMFMYEg3ZrYuuMLPduuU6uYuTqBk18X7CLRlvt3oW79ht5aG37SgXXHDBunXrzB3oKXMeuyV1h/62NwRmCkOiLrtNPC/jprkKWLqFmcZufVENputEJSXtNia1nlWH3rajrFixYmFhwdyBnoLd9iz0t70hMFMYEvM57jbtfLqm54ix8i1ooYxaUAJqH7lrleu58hZnJWvAUcl4u5UbOUeqqXlTFj5r6G07CnY7BLDbnoX+tjcEZgpDouqx23ggM5bFrJtKQpGNCRVwohbias6lXqzyxGh9i1N6mqDaz5aUOjIhFPGEuA52CyHY7RDAbnsW+tveEJgpDInajrudIrO30ECsMWYdy3orD71tR8FuhwB227PQ3/aGwExhSGC3M0bZrTV47MpupaG37SjY7RCYg93qr4OE9GFUk8f6SiovdfTG07SZu6p1jiOEob/tDYGZwpDAbmeOWm2LGjtcetuOgt0OgdrtNnV6gO52xhhqbrDbMqG/7Q2BmcKQqM5uSe2ht+0o2O0QqN1uUz5Xvd2mC7Fb+tv+EJgpDAnstkOht+0o2O0QmIfdVvRDYthtmdDf9obATGFIYLcdCr1tR8Fuh0CtdqskL0bbnqV9oTVmrzZjHopIXDCjjHa18KGCNqVw5fqNq63fS/MvRQtohPLygjYlJVZVHZsRsnL9GuwWyhKYKQwJ7LZDobftKNjtEJjz2K1jt7EsqnJTLbTJbP2s3WYL89qUhHoam6WuGc2YnGXr+RmdgjZTjaiHovattbLrOOtQS+hve0NgpjAksNsOhd62o2C3Q6BZu02+8c/5yt6+uos1b5J0YUGbyiyTh1yL1SO76q6qZn6i3CS/TXedk0Uka+UsKOdpVhj6294QmCkMCex2TOrvQ8uH3rajYLdDoI12m3yVr6nLbl2iR1VNTWils9mtU8edpfrQ3/aGwExhSGC3Y1J/H1o+9LYdBbsdAq2zW+2dcfm8xm59UbNLndnslrFbmJbATGFINGi33h62dam/Dy0fetuOgt0OgXbbrR5GHWu3Sful7VbXHNOTGzEd02bciL0m1qqqOuZQB/3UsFsoSWCmMCSw2zHBbmFmsNsh0MIjE/RPJ4boiwwU2m2kjOFD5e1WogU3QddUsyTo+gVtSrTghvifprWGMqO6XW/PTH/bGwIzhSExP7u1O7vzL11l94ZJP2v3knHPJYXyd3/c93m+BbO/dEv9iS9J+lBv42H99AVukj40c92Z1LNIuuD5hN62o2C3Q6B2uyXzDf1tbwjMFIbEnOxW+aJrpZnxA22fUYl6NGWlZnY9GmG7qY7d/sZLL7xcYrWjbuc1Lgm9Ob5r10w/5HsW8wy9bUfBbocAdtuz0N/2hsBMYUjMa+w2PZ6q49qt74sqz/dZSbkdVSdsX/RXXzA8bCqaN7dx53ZGYVMzqprOs5hn6G07CnY7BLDbnoX+tjcEZgpDYo7H3So11Bh3rNRu9ZiuGaNVjUjjqo5SVd1mebt1avpmtJ/FPENv21Gw2yGA3fYs9Le9ITBTGBINnFWmfFGp4ZR2m3d4gBHZtavCw2GltcvXRspb0Lhzu3js1kr0LNzyOkNv21EuuOCC7du3mzvQU7DbnoX+tjcEZgpDogG7jfRR2W3qxCw9LBr5rvWostsxx92qaAm+XEmtuitL0eeu2Qrra9w8lNitvjv+ujO5z6LG0NsCtBbstmehv+0NgZnCkJiT3aqRzgSjksYd7RFc7aAhiTKGY7fxQ7kjplp8Y08NndgdrzVkrNqyW2vFZHZ1O2rE9yywWwAQXjv89Oldt5LeRHaOo1dPm1cXukxgpjAkGhi7nTjpIxPaFTHj+R2fgN0CAABMRGCmMCSw21mytGblPC+hgN0CAABMRGCmMCSw2w4FuwUAAJiIwExhSHTBbokJdgsAADARgZnCkMBuOxTsFgAAYCICM4Uhgd12KNgtAADARARmCkMCu+1QsFsAAICJCMwUhgR226FgtwAAABMRmCkMCey2Q8FuO8q+ffvMLQAAmC+BmcKQKLZb9UNcyQ+JkYaD3XaUc845Z8OGDeYOAADMkcBMYUh00G71T+zOulaVNDLvYLcdZcWKFQsLC+YOAADMkcBMYUh0wm7TqzGlmFbSyHSpajNitx0FuwUAaIrATGFIdNBup0yDzwW7HTjYLQBAUwRmCkNiErvV452GS+83hWtXBcGqjer/qDyutnL9g+XrhMkuwi4xK5Os1YOrLzQPKC5cc+c0jfhnMYXWajur6k2pRacKk3UYH+y2o2C3AABNEZgpDInSdquFLFKxpTUrg/NXL6nbofyFJmdEcNXGaN4J6khCmwxvp+wzbaLuXZWNl0b2OUUjqaemylNiaqRWlSer6k3eJnIW7S4uXtuxwW47CnYLANAUgZnCkChrt2qU1B68FEkN7ypb9dqkNs7EaMfVcZNvh+7dsP1o4DaVUo246xCvbUqUC1bVJHcTpRftVpsg2G1HwW4BAJoiMFMYEpPYrYs2v0rt1llKObtVd+1R1UkbqdJuXcLZU4se205+sNuOgt0CADRFYKYwJKYdu41Tnd1qO4yrlR27VS1YKzZFI65uzmK3/kHZ1KLzq40NdttRsFsAgKYIzBSGxHTH3VqpyW7VLCkxtUZnrRZUtdQxCdM2Eq+SVa3Ibp3WdPI2kVM5VU0e0ovQhW6DbrDbjoLdAgA0RWCmMCRK261EG1hCeXMtU0dFDbUaVq5fc2lie9pZFXrGpAU1u4UunLgRFS24IWkNncRuJd5N5C46tThTgt32GewWAKApAjOFIVFstyQnoqdTHl0wS7DbjoLdAgA0RWCmMCSw2ymytGal9xINdQe77SjYLQBAUwRmCkMCu+1QsNuOgt0CADRFYKYwJLDbDgW77SjYLQBAUwRmCkMCu+1QsNuOgt0CADRFYKYwJM488aUzT3z5zLe3kPbn9KObsNsugt0CADQFdjtE3nj5xOsnD5Fu5CfPm5cNOgV2CwDQFNgtAED1YLcAAE2B3QIAVA92CwDQFNgtAED1XHLJJbfffru5AwAAcwS7BQAAAID+gN0CAAAAQH/AbgEAAACgP2C3AAAAANAfsFsAAAAA6A/YLQAAAAD0B+wWAAAAAPoDdgsAAAAA/QG7BQAAAID+gN0CAAAAQH/AbgEAqmdpaWl5edncAQCAOYLdAgBUzznnnLNu3TpzBwAA5gh2CwBQPStWrFhYWDB3AABgjmC3AADVg90CADQFdgsAUD3YLQBAU2C3AADVg90CADQFdgsAUD3YLQBAU2C3AADVg90CADQFdgsAUD3YLQBAU2C3AADVg90CADQFdgsAUD3YLQBAU2C3AADVg90CADQFdgsAUD3YLQBAU2C3AADVg90CADQFdgsAUD3YLQBAU2C3AADVg90CADQFdgsAUD3YLQBAU2C3AADVg90CADQFdgsAUD1XX3317t27zR0AAJgbo9H/D2lHF9SvbYV/AAAAAElFTkSuQmCC)\n",
        "\n",
        "The repository already includes precalculated files for the eight configurations of the paper. For this reason, running the code cells above doesn't need a fastText model instance. The precalculated files per dataset actually consist of two files: A matrix containing the similarity values between code and requirement elements and an artifact map that maps an artifact (e.g. code class) to its containing elements (e.g. its methods).\n",
        "Follow the steps below to re-precalculate the files."
      ]
    },
    {
      "cell_type": "code",
      "metadata": {
        "id": "yq_lQ-V49Xz3"
      },
      "source": [
        "#@title Install english fastText model (for eTour or iTrust) {display-mode: \"form\"}\n",
        "!wget \"https://dl.fbaipublicfiles.com/fasttext/vectors-crawl/cc.en.300.bin.gz\" -P \"/content/models/\"\n",
        "!gunzip /content/models/cc.en.300.bin.gz\n",
        "ENGLISH_FASTTEXT_MODEL_PATH = \"/content/models/cc.en.300.bin\""
      ],
      "execution_count": null,
      "outputs": []
    },
    {
      "cell_type": "code",
      "metadata": {
        "id": "Q9ayZdkk-Fm1"
      },
      "source": [
        "#@title Install italian fastText model (For SMOS or eAnci) {display-mode: \"form\"}\n",
        "!wget \"https://dl.fbaipublicfiles.com/fasttext/vectors-crawl/cc.en.300.bin.gz\" -P \"/content/models/\"\n",
        "!gunzip /content/models/cc.it.300.bin.gz\n",
        "ITALIAN_FASTTEXT_MODEL_PATH = \"/content/models/cc.it.300.bin\""
      ],
      "execution_count": null,
      "outputs": []
    },
    {
      "cell_type": "code",
      "metadata": {
        "id": "zgPlba_2HIZD"
      },
      "source": [
        "# Set the parameters for the precalculation\n",
        "DATASET = Etour # Choose from: Etour Itrust Smos Eanci\n",
        "FASTTEXT_MODEL_PATH = ENGLISH_FASTTEXT_MODEL_PATH # Or ITALIAN_FASTTEXT_MODEL_PATH depending on the dataset\n",
        "TRACE_LINK_PROCESSOR = BaseLineUCTMCCDRunner # Or: BaseLineCDRunner BaseLineUCTRunner BaseLineMCRunner BaseLineUCTMCRunner BaseLineUCTCDRunner BaseLineUCTMCCDRunner BaseLineMCCDRunner\n",
        "MATRIX_FILE_PATH = None # Output path for the precalculated file (csv file). If set to None, it will use a default path (which will overwrite the existing precalculated file)\n",
        "ARTIFACT_MAP_FILE_PATH = None # Output path for the precalculated file (json file). If set to None, it will use a default path (which will overwrite the existing precalculated file)"
      ],
      "execution_count": null,
      "outputs": []
    },
    {
      "cell_type": "code",
      "metadata": {
        "id": "pjL33YGra0US"
      },
      "source": [
        "#@title Run precalculation with the parameter from above {display-mode: \"form\"}\n",
        "b = TRACE_LINK_PROCESSOR(DATASET())\n",
        "b.precalculate(FASTTEXT_MODEL_PATH, MATRIX_FILE_PATH, ARTIFACT_MAP_FILE_PATH)"
      ],
      "execution_count": null,
      "outputs": []
    }
  ]
}
